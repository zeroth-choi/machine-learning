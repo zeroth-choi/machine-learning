{
 "cells": [
  {
   "cell_type": "markdown",
   "metadata": {
    "toc": true
   },
   "source": [
    "<h1>Table of Contents<span class=\"tocSkip\"></span></h1>\n",
    "<div class=\"toc\"><ul class=\"toc-item\"><li><span><a href=\"#Jupyter-Notebook명령어\" data-toc-modified-id=\"Jupyter-Notebook명령어-1\"><span class=\"toc-item-num\">1&nbsp;&nbsp;</span>Jupyter Notebook명령어</a></span><ul class=\"toc-item\"><li><span><a href=\"#Jupyter-Notebook-홈-화면-명령어\" data-toc-modified-id=\"Jupyter-Notebook-홈-화면-명령어-1.1\"><span class=\"toc-item-num\">1.1&nbsp;&nbsp;</span>Jupyter Notebook 홈 화면 명령어</a></span></li><li><span><a href=\"#In-order-to-list-all-installed-modules,-run-in-Anaconda-Prompt-:\" data-toc-modified-id=\"In-order-to-list-all-installed-modules,-run-in-Anaconda-Prompt-:-1.2\"><span class=\"toc-item-num\">1.2&nbsp;&nbsp;</span>In order to list all installed modules, run in Anaconda Prompt :</a></span></li><li><span><a href=\"#Command-mode\" data-toc-modified-id=\"Command-mode-1.3\"><span class=\"toc-item-num\">1.3&nbsp;&nbsp;</span>Command mode</a></span></li><li><span><a href=\"#Edit-mode\" data-toc-modified-id=\"Edit-mode-1.4\"><span class=\"toc-item-num\">1.4&nbsp;&nbsp;</span>Edit mode</a></span></li><li><span><a href=\"#공용-단축키-(현재-Notebook에-대하여)\" data-toc-modified-id=\"공용-단축키-(현재-Notebook에-대하여)-1.5\"><span class=\"toc-item-num\">1.5&nbsp;&nbsp;</span>공용 단축키 (현재 Notebook에 대하여)</a></span></li><li><span><a href=\"#shell-(명령-프롬프트)-이용\" data-toc-modified-id=\"shell-(명령-프롬프트)-이용-1.6\"><span class=\"toc-item-num\">1.6&nbsp;&nbsp;</span>shell (명령 프롬프트) 이용</a></span></li></ul></li><li><span><a href=\"#Markdown-명령어\" data-toc-modified-id=\"Markdown-명령어-2\"><span class=\"toc-item-num\">2&nbsp;&nbsp;</span>Markdown 명령어</a></span><ul class=\"toc-item\"><li><span><a href=\"#heading\" data-toc-modified-id=\"heading-2.1\"><span class=\"toc-item-num\">2.1&nbsp;&nbsp;</span>heading</a></span></li><li><span><a href=\"#줄바꿈\" data-toc-modified-id=\"줄바꿈-2.2\"><span class=\"toc-item-num\">2.2&nbsp;&nbsp;</span>줄바꿈</a></span></li><li><span><a href=\"#폰트\" data-toc-modified-id=\"폰트-2.3\"><span class=\"toc-item-num\">2.3&nbsp;&nbsp;</span>폰트</a></span></li><li><span><a href=\"#가로줄\" data-toc-modified-id=\"가로줄-2.4\"><span class=\"toc-item-num\">2.4&nbsp;&nbsp;</span>가로줄</a></span></li><li><span><a href=\"#인용\" data-toc-modified-id=\"인용-2.5\"><span class=\"toc-item-num\">2.5&nbsp;&nbsp;</span>인용</a></span></li><li><span><a href=\"#목록\" data-toc-modified-id=\"목록-2.6\"><span class=\"toc-item-num\">2.6&nbsp;&nbsp;</span>목록</a></span></li><li><span><a href=\"#링크와-이미지\" data-toc-modified-id=\"링크와-이미지-2.7\"><span class=\"toc-item-num\">2.7&nbsp;&nbsp;</span>링크와 이미지</a></span></li><li><span><a href=\"#수식\" data-toc-modified-id=\"수식-2.8\"><span class=\"toc-item-num\">2.8&nbsp;&nbsp;</span>수식</a></span></li><li><span><a href=\"#표\" data-toc-modified-id=\"표-2.9\"><span class=\"toc-item-num\">2.9&nbsp;&nbsp;</span>표</a></span></li><li><span><a href=\"#코드\" data-toc-modified-id=\"코드-2.10\"><span class=\"toc-item-num\">2.10&nbsp;&nbsp;</span>코드</a></span></li></ul></li><li><span><a href=\"#객체\" data-toc-modified-id=\"객체-3\"><span class=\"toc-item-num\">3&nbsp;&nbsp;</span>객체</a></span><ul class=\"toc-item\"><li><span><a href=\"#객체\" data-toc-modified-id=\"객체-3.1\"><span class=\"toc-item-num\">3.1&nbsp;&nbsp;</span>객체</a></span></li><li><span><a href=\"#객체의-내용(DocString)\" data-toc-modified-id=\"객체의-내용(DocString)-3.2\"><span class=\"toc-item-num\">3.2&nbsp;&nbsp;</span>객체의 내용(DocString)</a></span></li><li><span><a href=\"#함수의--docstring\" data-toc-modified-id=\"함수의--docstring-3.3\"><span class=\"toc-item-num\">3.3&nbsp;&nbsp;</span>함수의  docstring</a></span></li><li><span><a href=\"#함수의-소스-코드\" data-toc-modified-id=\"함수의-소스-코드-3.4\"><span class=\"toc-item-num\">3.4&nbsp;&nbsp;</span>함수의 소스 코드</a></span></li><li><span><a href=\"#wildcard(*)로-객체-검색하기\" data-toc-modified-id=\"wildcard(*)로-객체-검색하기-3.5\"><span class=\"toc-item-num\">3.5&nbsp;&nbsp;</span>wildcard(*)로 객체 검색하기</a></span></li><li><span><a href=\"#Tab-키를-이용한-자동-완성\" data-toc-modified-id=\"Tab-키를-이용한-자동-완성-3.6\"><span class=\"toc-item-num\">3.6&nbsp;&nbsp;</span>Tab 키를 이용한 자동 완성</a></span></li><li><span><a href=\"#변수의-상태\" data-toc-modified-id=\"변수의-상태-3.7\"><span class=\"toc-item-num\">3.7&nbsp;&nbsp;</span>변수의 상태</a></span></li></ul></li><li><span><a href=\"#코드-저장\" data-toc-modified-id=\"코드-저장-4\"><span class=\"toc-item-num\">4&nbsp;&nbsp;</span>코드 저장</a></span><ul class=\"toc-item\"><li><span><a href=\"#한글을-포함하는-Jupyter-notebook-전체를-PDF-파일로-저장하기\" data-toc-modified-id=\"한글을-포함하는-Jupyter-notebook-전체를-PDF-파일로-저장하기-4.1\"><span class=\"toc-item-num\">4.1&nbsp;&nbsp;</span>한글을 포함하는 Jupyter notebook 전체를 PDF 파일로 저장하기</a></span></li><li><span><a href=\"#Jupyter-notebook-전체를-python-script로-저장하기\" data-toc-modified-id=\"Jupyter-notebook-전체를-python-script로-저장하기-4.2\"><span class=\"toc-item-num\">4.2&nbsp;&nbsp;</span>Jupyter notebook 전체를 python script로 저장하기</a></span></li><li><span><a href=\"#save-several-cells-as-a-python-script\" data-toc-modified-id=\"save-several-cells-as-a-python-script-4.3\"><span class=\"toc-item-num\">4.3&nbsp;&nbsp;</span>save several cells as a python script</a></span></li><li><span><a href=\"#python-script를-Jupyter-notebook으로-변환하기\" data-toc-modified-id=\"python-script를-Jupyter-notebook으로-변환하기-4.4\"><span class=\"toc-item-num\">4.4&nbsp;&nbsp;</span>python script를 Jupyter notebook으로 변환하기</a></span></li><li><span><a href=\"#script-file의-전체-내용을-한-셀에-불러오기\" data-toc-modified-id=\"script-file의-전체-내용을-한-셀에-불러오기-4.5\"><span class=\"toc-item-num\">4.5&nbsp;&nbsp;</span>script file의 전체 내용을 한 셀에 불러오기</a></span></li><li><span><a href=\"#Jupyter-notebooks를-합치기\" data-toc-modified-id=\"Jupyter-notebooks를-합치기-4.6\"><span class=\"toc-item-num\">4.6&nbsp;&nbsp;</span>Jupyter notebooks를 합치기</a></span></li></ul></li><li><span><a href=\"#실행\" data-toc-modified-id=\"실행-5\"><span class=\"toc-item-num\">5&nbsp;&nbsp;</span>실행</a></span><ul class=\"toc-item\"><li><span><a href=\"#매직-명령어\" data-toc-modified-id=\"매직-명령어-5.1\"><span class=\"toc-item-num\">5.1&nbsp;&nbsp;</span>매직 명령어</a></span></li><li><span><a href=\"#명령어의-실행-시간-측정하기(여러-번-실행하여-빨랐던-몇-번에-대한-평균)\" data-toc-modified-id=\"명령어의-실행-시간-측정하기(여러-번-실행하여-빨랐던-몇-번에-대한-평균)-5.2\"><span class=\"toc-item-num\">5.2&nbsp;&nbsp;</span>명령어의 실행 시간 측정하기(여러 번 실행하여 빨랐던 몇 번에 대한 평균)</a></span></li><li><span><a href=\"#스크립트-파일-실행-(automagic이-활성화-되어-있으면-%-생략-가능)\" data-toc-modified-id=\"스크립트-파일-실행-(automagic이-활성화-되어-있으면-%-생략-가능)-5.3\"><span class=\"toc-item-num\">5.3&nbsp;&nbsp;</span>스크립트 파일 실행 (automagic이 활성화 되어 있으면 % 생략 가능)</a></span></li><li><span><a href=\"#오류가-발생한-경우에-사후-분석-디버깅(pdb)\" data-toc-modified-id=\"오류가-발생한-경우에-사후-분석-디버깅(pdb)-5.4\"><span class=\"toc-item-num\">5.4&nbsp;&nbsp;</span>오류가 발생한 경우에 사후 분석 디버깅(pdb)</a></span></li><li><span><a href=\"#스크립트에-디버거(pdb)-실행\" data-toc-modified-id=\"스크립트에-디버거(pdb)-실행-5.5\"><span class=\"toc-item-num\">5.5&nbsp;&nbsp;</span>스크립트에 디버거(pdb) 실행</a></span></li></ul></li></ul></div>"
   ]
  },
  {
   "cell_type": "markdown",
   "metadata": {},
   "source": [
    "# Jupyter Notebook 사용법"
   ]
  },
  {
   "cell_type": "markdown",
   "metadata": {},
   "source": [
    "참고: [Jupyter Notebook Users Manual](https://jupyter.brynmawr.edu/services/public/dblank/Jupyter%20Notebook%20Users%20Manual.ipynb)"
   ]
  },
  {
   "cell_type": "markdown",
   "metadata": {},
   "source": [
    "## Jupyter Notebook명령어"
   ]
  },
  {
   "cell_type": "markdown",
   "metadata": {},
   "source": [
    "### Jupyter Notebook 홈 화면 명령어\n",
    "\n",
    "키 | 설명\n",
    ":----:|:-----------------\n",
    "New > Python 3 | Python 3 notebook 생성\n",
    "New > Text Folder | folder 생성\n",
    "New > Text File | script 파일 생성\n",
    "New > Terminal | Anaconda 프롬프트 열기\n",
    "Quit | 서버 종료\n",
    "Logout | (PW 필요)"
   ]
  },
  {
   "cell_type": "markdown",
   "metadata": {},
   "source": [
    "### In order to list all installed modules, run in Anaconda Prompt :\n",
    "\n",
    "  pip list\n",
    "  \n",
    "  or \n",
    "  \n",
    "  pip freeze\n",
    "  \n",
    "  or\n",
    "  \n",
    "  conda list"
   ]
  },
  {
   "cell_type": "code",
   "execution_count": 1,
   "metadata": {
    "ExecuteTime": {
     "end_time": "2021-02-24T03:37:16.211680Z",
     "start_time": "2021-02-24T03:37:09.489062Z"
    }
   },
   "outputs": [
    {
     "name": "stdout",
     "output_type": "stream",
     "text": [
      "# packages in environment at C:\\ide\\anaconda3:\n",
      "#\n",
      "# Name                    Version                   Build  Channel\n",
      "_anaconda_depends         2020.07                  py38_0  \n",
      "_ipyw_jlab_nb_ext_conf    0.1.0                    py38_0  \n",
      "_r-mutex                  1.0.0               anacondar_1  \n",
      "absl-py                   0.11.0                   pypi_0    pypi\n",
      "alabaster                 0.7.12                     py_0  \n",
      "anaconda                  custom                   py38_1  \n",
      "anaconda-client           1.7.2                    py38_0  \n",
      "anaconda-navigator        1.10.0                   py38_0  \n",
      "anaconda-project          0.9.1              pyhd3eb1b0_1  \n",
      "appdirs                   1.4.4                      py_0  \n",
      "argh                      0.26.2                   py38_0  \n",
      "argon2-cffi               20.1.0           py38he774522_1  \n",
      "asn1crypto                1.4.0                      py_0  \n",
      "astroid                   2.4.2                    py38_0  \n",
      "astropy                   4.2              py38h2bbff1b_0  \n",
      "astunparse                1.6.3                    pypi_0    pypi\n",
      "async_generator           1.10                       py_0  \n",
      "atomicwrites              1.4.0                      py_0  \n",
      "attrs                     20.3.0             pyhd3eb1b0_0  \n",
      "autopep8                  1.5.4                      py_0  \n",
      "babel                     2.9.0              pyhd3eb1b0_0  \n",
      "backcall                  0.2.0                      py_0  \n",
      "backports                 1.0                pyhd3eb1b0_2  \n",
      "backports.functools_lru_cache 1.6.1              pyhd3eb1b0_0  \n",
      "backports.shutil_get_terminal_size 1.0.0              pyhd3eb1b0_3  \n",
      "backports.tempfile        1.0                pyhd3eb1b0_1  \n",
      "backports.weakref         1.0.post1                  py_1  \n",
      "bcrypt                    3.2.0            py38he774522_0  \n",
      "beautifulsoup4            4.9.3              pyha847dfd_0  \n",
      "bitarray                  1.6.3            py38h2bbff1b_1  \n",
      "bkcharts                  0.2                      py38_0  \n",
      "black                     19.10b0                    py_0  \n",
      "blas                      1.0                         mkl  \n",
      "bleach                    3.2.3              pyhd3eb1b0_0  \n",
      "blosc                     1.20.1               h7bd577a_0  \n",
      "bokeh                     2.2.3                    py38_0  \n",
      "boto                      2.49.0                   py38_0  \n",
      "bottleneck                1.3.2            py38h2a96729_1  \n",
      "brotli                    1.0.9                ha925a31_2  \n",
      "brotlipy                  0.7.0           py38h2bbff1b_1003  \n",
      "bzip2                     1.0.8                he774522_0  \n",
      "ca-certificates           2021.1.19            haa95532_0  \n",
      "cachetools                4.2.1                    pypi_0    pypi\n",
      "certifi                   2020.12.5        py38haa244fe_1    conda-forge\n",
      "cffi                      1.14.4           py38hcd4344a_0  \n",
      "chardet                   4.0.0           py38haa95532_1003  \n",
      "charls                    2.1.0                h33f27b4_2  \n",
      "click                     7.1.2              pyhd3eb1b0_0  \n",
      "cloudpickle               1.6.0                      py_0  \n",
      "clyent                    1.2.2                    py38_1  \n",
      "colorama                  0.4.4              pyhd3eb1b0_0  \n",
      "comtypes                  1.1.8           py38haa95532_1002  \n",
      "conda                     4.9.2            py38haa244fe_0    conda-forge\n",
      "conda-build               3.21.4           py38haa95532_0  \n",
      "conda-env                 2.6.0                         1  \n",
      "conda-package-handling    1.7.2            py38h76e460a_0  \n",
      "conda-verify              3.4.2                      py_1  \n",
      "console_shortcut          0.1.1                         4  \n",
      "contextlib2               0.6.0.post1                py_0  \n",
      "cryptography              3.3.1            py38hcd4344a_0  \n",
      "curl                      7.71.1               h2a8f88b_1  \n",
      "cycler                    0.10.0                   py38_0  \n",
      "cython                    0.29.21          py38hd77b12b_0  \n",
      "cytoolz                   0.11.0           py38he774522_0  \n",
      "dask                      2021.1.1           pyhd3eb1b0_0  \n",
      "dask-core                 2021.1.1           pyhd3eb1b0_0  \n",
      "decorator                 4.4.2                      py_0  \n",
      "defusedxml                0.6.0                      py_0  \n",
      "diff-match-patch          20200713                   py_0  \n",
      "distributed               2021.1.1         py38haa95532_1  \n",
      "docutils                  0.16                     py38_1  \n",
      "entrypoints               0.3                      py38_0  \n",
      "et_xmlfile                1.0.1                   py_1001  \n",
      "fastcache                 1.1.0            py38he774522_0  \n",
      "filelock                  3.0.12             pyhd3eb1b0_1  \n",
      "flake8                    3.8.4                      py_0  \n",
      "flask                     1.1.2                      py_0  \n",
      "flatbuffers               1.12                     pypi_0    pypi\n",
      "freetype                  2.10.4               hd328e21_0  \n",
      "fsspec                    0.8.3                      py_0  \n",
      "future                    0.18.2                   py38_1  \n",
      "gast                      0.3.3                    pypi_0    pypi\n",
      "get_terminal_size         1.0.0                h38e98db_0  \n",
      "gevent                    21.1.1           py38h2bbff1b_1  \n",
      "giflib                    5.2.1                h62dcd97_0  \n",
      "glob2                     0.7                pyhd3eb1b0_0  \n",
      "gmpy2                     2.0.8            py38h7edee0f_3  \n",
      "google-auth               1.24.0                   pypi_0    pypi\n",
      "google-auth-oauthlib      0.4.2                    pypi_0    pypi\n",
      "google-pasta              0.2.0                    pypi_0    pypi\n",
      "greenlet                  0.4.17           py38he774522_0  \n",
      "grpcio                    1.32.0                   pypi_0    pypi\n",
      "h5py                      2.10.0           py38h5e291fa_0  \n",
      "hdf5                      1.10.4               h7ebc959_0  \n",
      "heapdict                  1.0.1                      py_0  \n",
      "html5lib                  1.1                        py_0  \n",
      "icc_rt                    2019.0.0             h0cc432a_1  \n",
      "icu                       58.2                 ha925a31_3  \n",
      "idna                      2.10               pyhd3eb1b0_0  \n",
      "imagecodecs               2021.1.11        py38h5da4933_1  \n",
      "imageio                   2.9.0                      py_0  \n",
      "imagesize                 1.2.0                      py_0  \n",
      "importlib-metadata        2.0.0                      py_1  \n",
      "importlib_metadata        2.0.0                         1  \n",
      "iniconfig                 1.1.1              pyhd3eb1b0_0  \n",
      "intel-openmp              2020.2                      254  \n",
      "intervaltree              3.1.0                      py_0  \n",
      "ipykernel                 5.3.4            py38h5ca1d4c_0  \n",
      "ipyparallel               6.3.0                    pypi_0    pypi\n",
      "ipython                   7.20.0                   pypi_0    pypi\n",
      "ipython_genutils          0.2.0              pyhd3eb1b0_1  \n",
      "ipywidgets                7.6.3              pyhd3eb1b0_1  \n",
      "isort                     5.6.4                      py_0  \n",
      "itsdangerous              1.1.0                      py_0  \n",
      "jdcal                     1.4.1                      py_0  \n",
      "jedi                      0.17.2           py38haa95532_1  \n",
      "jinja2                    2.11.2             pyhd3eb1b0_0  \n",
      "joblib                    1.0.0              pyhd3eb1b0_0  \n",
      "jpeg                      9b                   hb83a4c4_2  \n",
      "json5                     0.9.5                      py_0  \n",
      "jsonschema                3.2.0                      py_2  \n",
      "jupyter                   1.0.0                    py38_7  \n",
      "jupyter-contrib-nbextensions 0.5.1                    pypi_0    pypi\n",
      "jupyter-highlight-selected-word 0.2.0                    pypi_0    pypi\n",
      "jupyter-latex-envs        1.4.6                    pypi_0    pypi\n",
      "jupyter_client            6.1.7                      py_0  \n",
      "jupyter_console           6.2.0                      py_0  \n",
      "jupyter_contrib_core      0.3.3                      py_2    conda-forge\n",
      "jupyter_core              4.7.0            py38haa95532_0  \n",
      "jupyter_nbextensions_configurator 0.4.1            py38haa244fe_2    conda-forge\n",
      "jupyterlab                2.2.6                      py_0  \n",
      "jupyterlab_pygments       0.1.2                      py_0  \n",
      "jupyterlab_server         1.2.0                      py_0  \n",
      "jupyterlab_widgets        1.0.0              pyhd3eb1b0_1  \n",
      "keras                     2.4.3                    pypi_0    pypi\n",
      "keras-preprocessing       1.1.2                    pypi_0    pypi\n",
      "keyring                   22.0.1           py38haa95532_0  \n",
      "kiwisolver                1.3.0            py38hd77b12b_0  \n",
      "krb5                      1.18.2               hc04afaa_0  \n",
      "lazy-object-proxy         1.4.3            py38h2bbff1b_2  \n",
      "lcms2                     2.11                 hc51a39a_0  \n",
      "lerc                      2.2.1                hd77b12b_0  \n",
      "libaec                    1.0.4                h33f27b4_1  \n",
      "libarchive                3.4.2                h5e25573_0  \n",
      "libcurl                   7.71.1               h2a8f88b_1  \n",
      "libdeflate                1.7                  h2bbff1b_5  \n",
      "libiconv                  1.15                 h1df5818_7  \n",
      "liblief                   0.10.1               ha925a31_0  \n",
      "libllvm9                  9.0.1                h21ff451_0  \n",
      "libpng                    1.6.37               h2a8f88b_0  \n",
      "libsodium                 1.0.18               h62dcd97_0  \n",
      "libspatialindex           1.9.3                h33f27b4_0  \n",
      "libssh2                   1.9.0                h7a1dbc1_1  \n",
      "libtiff                   4.1.0                h56a325e_1  \n",
      "libxml2                   2.9.10               hb89e7f3_3  \n",
      "libxslt                   1.1.34               he774522_0  \n",
      "libzopfli                 1.0.3                ha925a31_0  \n",
      "llvmlite                  0.34.0           py38h1a82afc_4  \n",
      "locket                    0.2.1            py38haa95532_1  \n",
      "lxml                      4.6.2            py38h9b66d53_0  \n",
      "lz4-c                     1.9.3                h2bbff1b_0  \n",
      "lzo                       2.10                 he774522_2  \n",
      "m2w64-bwidget             1.9.10                        2  \n",
      "m2w64-bzip2               1.0.6                         6  \n",
      "m2w64-expat               2.1.1                         2  \n",
      "m2w64-fftw                3.3.4                         6  \n",
      "m2w64-flac                1.3.1                         3  \n",
      "m2w64-gcc-libgfortran     5.3.0                         6  \n",
      "m2w64-gcc-libs            5.3.0                         7  \n",
      "m2w64-gcc-libs-core       5.3.0                         7  \n",
      "m2w64-gettext             0.19.7                        2  \n",
      "m2w64-gmp                 6.1.0                         2  \n",
      "m2w64-gsl                 2.1                           2  \n",
      "m2w64-libiconv            1.14                          6  \n",
      "m2w64-libjpeg-turbo       1.4.2                         3  \n",
      "m2w64-libogg              1.3.2                         3  \n",
      "m2w64-libpng              1.6.21                        2  \n",
      "m2w64-libsndfile          1.0.26                        2  \n",
      "m2w64-libsodium           1.0.10                        2  \n",
      "m2w64-libtiff             4.0.6                         2  \n",
      "m2w64-libvorbis           1.3.5                         2  \n",
      "m2w64-libwinpthread-git   5.0.0.4634.697f757               2  \n",
      "m2w64-libxml2             2.9.3                         4  \n",
      "m2w64-mpfr                3.1.4                         4  \n",
      "m2w64-openblas            0.2.19                        1  \n",
      "m2w64-pcre                8.38                          2  \n",
      "m2w64-speex               1.2rc2                        3  \n",
      "m2w64-speexdsp            1.2rc3                        3  \n",
      "m2w64-tcl                 8.6.5                         3  \n",
      "m2w64-tk                  8.6.5                         3  \n",
      "m2w64-tktable             2.10                          5  \n",
      "m2w64-wineditline         2.101                         5  \n",
      "m2w64-xz                  5.2.2                         2  \n",
      "m2w64-zeromq              4.1.4                         2  \n",
      "m2w64-zlib                1.2.8                        10  \n",
      "markdown                  3.3.3                    pypi_0    pypi\n",
      "markupsafe                1.1.1            py38he774522_0  \n",
      "matplotlib                3.3.2                haa95532_0  \n",
      "matplotlib-base           3.3.2            py38hba9282a_0  \n",
      "mccabe                    0.6.1                    py38_1  \n",
      "menuinst                  1.4.16           py38he774522_1  \n",
      "mistune                   0.8.4           py38he774522_1000  \n",
      "mkl                       2020.2                      256  \n",
      "mkl-service               2.3.0            py38h196d8e1_0  \n",
      "mkl_fft                   1.2.0            py38h45dec08_0  \n",
      "mkl_random                1.1.1            py38h47e9c7a_0  \n",
      "mock                      4.0.3              pyhd3eb1b0_0  \n",
      "more-itertools            8.6.0              pyhd3eb1b0_0  \n",
      "mpc                       1.1.0                h7edee0f_1  \n",
      "mpfr                      4.0.2                h62dcd97_1  \n",
      "mpir                      3.0.0                hec2e145_1  \n",
      "mpmath                    1.1.0                    py38_0  \n",
      "msgpack-python            1.0.1            py38h59b6b97_0  \n",
      "msys2-conda-epoch         20160418                      1  \n",
      "multipledispatch          0.6.0                    py38_0  \n",
      "mypy_extensions           0.4.3                    py38_0  \n",
      "navigator-updater         0.2.1                    py38_0  \n",
      "nbclient                  0.5.1                      py_0  \n",
      "nbconvert                 6.0.7                    py38_0  \n",
      "nbformat                  5.1.2              pyhd3eb1b0_1  \n",
      "nest-asyncio              1.4.3              pyhd3eb1b0_0  \n",
      "networkx                  2.5                        py_0  \n",
      "nltk                      3.5                        py_0  \n",
      "nose                      1.3.7           pyhd3eb1b0_1006  \n",
      "notebook                  6.2.0            py38haa95532_0  \n",
      "numba                     0.51.2           py38hf9181ef_1  \n",
      "numexpr                   2.7.2            py38hcbcaa1e_0  \n",
      "numpy                     1.18.5                   pypi_0    pypi\n",
      "numpy-base                1.19.2           py38ha3acd2a_0  \n",
      "numpydoc                  1.1.0              pyhd3eb1b0_1  \n",
      "oauthlib                  3.1.0                    pypi_0    pypi\n",
      "olefile                   0.46                       py_0  \n",
      "openjpeg                  2.3.0                h5ec785f_1  \n",
      "openpyxl                  3.0.6              pyhd3eb1b0_0  \n",
      "openssl                   1.1.1j               h2bbff1b_0  \n",
      "opt-einsum                3.3.0                    pypi_0    pypi\n",
      "packaging                 20.8               pyhd3eb1b0_0  \n",
      "pandas                    1.2.1            py38hf11a4ad_0  \n",
      "pandoc                    2.11                 h9490d1a_0  \n",
      "pandocfilters             1.4.3            py38haa95532_1  \n",
      "paramiko                  2.7.2                      py_0  \n",
      "parso                     0.7.0                      py_0  \n",
      "partd                     1.1.0                      py_0  \n",
      "path                      15.0.1           py38haa95532_0  \n",
      "path.py                   12.5.0                        0  \n",
      "pathlib2                  2.3.5            py38haa95532_2  \n",
      "pathspec                  0.7.0                      py_0  \n",
      "pathtools                 0.1.2                      py_1  \n",
      "patsy                     0.5.1                    py38_0  \n",
      "pep8                      1.7.1                    py38_0  \n",
      "pexpect                   4.8.0              pyhd3eb1b0_3  \n",
      "pickleshare               0.7.5           pyhd3eb1b0_1003  \n",
      "pillow                    8.1.0            py38h4fa10fc_0  \n",
      "pip                       20.3.3           py38haa95532_0  \n",
      "pkginfo                   1.7.0            py38haa95532_0  \n",
      "pluggy                    0.13.1                   py38_0  \n",
      "ply                       3.11                     py38_0  \n",
      "powershell_shortcut       0.0.1                         3  \n",
      "prometheus_client         0.9.0              pyhd3eb1b0_0  \n",
      "prompt-toolkit            3.0.8                      py_0  \n",
      "prompt_toolkit            3.0.8                         0  \n",
      "protobuf                  3.14.0                   pypi_0    pypi\n",
      "psutil                    5.7.2            py38he774522_0  \n",
      "ptyprocess                0.7.0              pyhd3eb1b0_2  \n",
      "py                        1.10.0             pyhd3eb1b0_0  \n",
      "py-lief                   0.10.1           py38ha925a31_0  \n",
      "pyasn1                    0.4.8                    pypi_0    pypi\n",
      "pyasn1-modules            0.2.8                    pypi_0    pypi\n",
      "pycodestyle               2.6.0                      py_0  \n",
      "pycosat                   0.6.3            py38h2bbff1b_0  \n",
      "pycparser                 2.20                       py_2  \n",
      "pycurl                    7.43.0.6         py38h7a1dbc1_0  \n",
      "pydocstyle                5.1.1                      py_0  \n",
      "pyerfa                    1.7.1.1          py38h2bbff1b_1  \n",
      "pyfirmata                 1.1.0                    pypi_0    pypi\n",
      "pyflakes                  2.2.0                      py_0  \n",
      "pygments                  2.7.4              pyhd3eb1b0_0  \n",
      "pyinputplus               0.2.12                   pypi_0    pypi\n",
      "pylint                    2.6.0                    py38_0  \n",
      "pyls-black                0.4.6                hd3eb1b0_0  \n",
      "pyls-spyder               0.3.0              pyhd3eb1b0_0  \n",
      "pynacl                    1.4.0            py38h62dcd97_1  \n",
      "pyodbc                    4.0.30           py38ha925a31_0  \n",
      "pyopenssl                 20.0.1             pyhd3eb1b0_1  \n",
      "pyparsing                 2.4.7              pyhd3eb1b0_0  \n",
      "pyqt                      5.9.2            py38ha925a31_4  \n",
      "pyreadline                2.1                      py38_1  \n",
      "pyrsistent                0.17.3           py38he774522_0  \n",
      "pyserial                  3.4                      pypi_0    pypi\n",
      "pysimplevalidate          0.2.12                   pypi_0    pypi\n",
      "pysocks                   1.7.1            py38haa95532_0  \n",
      "pytables                  3.6.1            py38ha5be198_0  \n",
      "pytest                    6.2.2            py38haa95532_2  \n",
      "python                    3.8.5                h5fd99cc_1  \n",
      "python-dateutil           2.8.1                      py_0  \n",
      "python-jsonrpc-server     0.4.0                      py_0  \n",
      "python-language-server    0.36.2             pyhd3eb1b0_0  \n",
      "python-libarchive-c       2.9                pyhd3eb1b0_0  \n",
      "python_abi                3.8                      1_cp38    conda-forge\n",
      "pytz                      2020.5             pyhd3eb1b0_0  \n",
      "pywavelets                1.1.1            py38he774522_2  \n",
      "pywin32                   227              py38he774522_1  \n",
      "pywin32-ctypes            0.2.0                 py38_1000  \n",
      "pywinpty                  0.5.7                    py38_0  \n",
      "pyyaml                    5.4.1            py38h2bbff1b_1  \n",
      "pyzmq                     20.0.0           py38hd77b12b_1  \n",
      "qdarkstyle                2.8.1                      py_0  \n",
      "qt                        5.9.7            vc14h73c81de_0  \n",
      "qtawesome                 1.0.1                      py_0  \n",
      "qtconsole                 4.7.7                      py_0  \n",
      "qtpy                      1.9.0                      py_0  \n",
      "r-askpass                 1.0                       r36_0    r\n",
      "r-assertthat              0.2.1             r36h6115d3f_0    r\n",
      "r-backports               1.1.4             r36h6115d3f_0    r\n",
      "r-base                    3.6.1                hf18239d_1    r\n",
      "r-base64enc               0.1_3             r36h6115d3f_4    r\n",
      "r-bh                      1.69.0_1          r36h6115d3f_0    r\n",
      "r-boot                    1.3_20            r36h6115d3f_0    r\n",
      "r-broom                   0.5.2             r36h6115d3f_0    r\n",
      "r-callr                   3.2.0             r36h6115d3f_0    r\n",
      "r-caret                   6.0_83            r36h6115d3f_0    r\n",
      "r-cellranger              1.1.0             r36h6115d3f_0    r\n",
      "r-class                   7.3_15            r36h6115d3f_0    r\n",
      "r-cli                     1.1.0             r36h6115d3f_0    r\n",
      "r-clipr                   0.6.0             r36h6115d3f_0    r\n",
      "r-cluster                 2.0.8             r36h6115d3f_0    r\n",
      "r-codetools               0.2_16            r36h6115d3f_0    r\n",
      "r-colorspace              1.4_1             r36h6115d3f_0    r\n",
      "r-crayon                  1.3.4             r36h6115d3f_0    r\n",
      "r-curl                    3.3               r36h6115d3f_0    r\n",
      "r-data.table              1.12.2            r36h6115d3f_0    r\n",
      "r-dbi                     1.0.0             r36h6115d3f_0    r\n",
      "r-dbplyr                  1.4.0             r36h6115d3f_0    r\n",
      "r-dichromat               2.0_0             r36h6115d3f_4    r\n",
      "r-digest                  0.6.18            r36h6115d3f_0    r\n",
      "r-dplyr                   0.8.0.1           r36h6115d3f_0    r\n",
      "r-ellipsis                0.1.0             r36h6115d3f_0    r\n",
      "r-essentials              3.6.0                     r36_0    r\n",
      "r-evaluate                0.13              r36h6115d3f_0    r\n",
      "r-fansi                   0.4.0             r36h6115d3f_0    r\n",
      "r-forcats                 0.4.0             r36h6115d3f_0    r\n",
      "r-foreach                 1.4.4             r36h6115d3f_0    r\n",
      "r-foreign                 0.8_71            r36h6115d3f_0    r\n",
      "r-formatr                 1.6               r36h6115d3f_0    r\n",
      "r-fs                      1.2.7             r36h6115d3f_0    r\n",
      "r-generics                0.0.2             r36h6115d3f_0    r\n",
      "r-ggplot2                 3.1.1             r36h6115d3f_0    r\n",
      "r-glmnet                  2.0_16            r36h6115d3f_0    r\n",
      "r-glue                    1.3.1             r36h6115d3f_0    r\n",
      "r-gower                   0.2.0             r36h6115d3f_0    r\n",
      "r-gtable                  0.3.0             r36h6115d3f_0    r\n",
      "r-haven                   2.1.0             r36h6115d3f_0    r\n",
      "r-hexbin                  1.27.2            r36h6115d3f_0    r\n",
      "r-highr                   0.8               r36h6115d3f_0    r\n",
      "r-hms                     0.4.2             r36h6115d3f_0    r\n",
      "r-htmltools               0.3.6             r36h6115d3f_0    r\n",
      "r-htmlwidgets             1.3               r36h6115d3f_0    r\n",
      "r-httpuv                  1.5.1             r36h6115d3f_0    r\n",
      "r-httr                    1.4.0             r36h6115d3f_0    r\n",
      "r-ipred                   0.9_8             r36h6115d3f_0    r\n",
      "r-irdisplay               0.7.0             r36h6115d3f_0    r\n",
      "r-irkernel                0.8.15                    r36_0    r\n",
      "r-iterators               1.0.10            r36h6115d3f_0    r\n",
      "r-jsonlite                1.6               r36h6115d3f_0    r\n",
      "r-kernsmooth              2.23_15           r36h6115d3f_4    r\n",
      "r-knitr                   1.22              r36h6115d3f_0    r\n",
      "r-labeling                0.3               r36h6115d3f_4    r\n",
      "r-later                   0.8.0             r36h6115d3f_0    r\n",
      "r-lattice                 0.20_38           r36h6115d3f_0    r\n",
      "r-lava                    1.6.5             r36h6115d3f_0    r\n",
      "r-lazyeval                0.2.2             r36h6115d3f_0    r\n",
      "r-lubridate               1.7.4             r36h6115d3f_0    r\n",
      "r-magrittr                1.5               r36h6115d3f_4    r\n",
      "r-maps                    3.3.0             r36h6115d3f_0    r\n",
      "r-markdown                0.9               r36h6115d3f_0    r\n",
      "r-mass                    7.3_51.3          r36h6115d3f_0    r\n",
      "r-matrix                  1.2_17            r36h6115d3f_0    r\n",
      "r-mgcv                    1.8_28            r36h6115d3f_0    r\n",
      "r-mime                    0.6               r36h6115d3f_0    r\n",
      "r-modelmetrics            1.2.2             r36h6115d3f_0    r\n",
      "r-modelr                  0.1.4             r36h6115d3f_0    r\n",
      "r-munsell                 0.5.0             r36h6115d3f_0    r\n",
      "r-nlme                    3.1_139           r36h6115d3f_0    r\n",
      "r-nnet                    7.3_12            r36h6115d3f_0    r\n",
      "r-numderiv                2016.8_1          r36h6115d3f_0    r\n",
      "r-openssl                 1.3               r36h6115d3f_0    r\n",
      "r-pbdzmq                  0.3_3             r36h6115d3f_0    r\n",
      "r-pillar                  1.3.1             r36h6115d3f_0    r\n",
      "r-pkgconfig               2.0.2             r36h6115d3f_0    r\n",
      "r-plogr                   0.2.0             r36h6115d3f_0    r\n",
      "r-plyr                    1.8.4             r36h6115d3f_0    r\n",
      "r-prettyunits             1.0.2             r36h6115d3f_0    r\n",
      "r-processx                3.3.0             r36h6115d3f_0    r\n",
      "r-prodlim                 2018.04.18        r36h6115d3f_0    r\n",
      "r-progress                1.2.0             r36h6115d3f_0    r\n",
      "r-promises                1.0.1             r36h6115d3f_0    r\n",
      "r-ps                      1.3.0             r36h6115d3f_0    r\n",
      "r-purrr                   0.3.2             r36h6115d3f_0    r\n",
      "r-quantmod                0.4_14            r36h6115d3f_0    r\n",
      "r-r6                      2.4.0             r36h6115d3f_0    r\n",
      "r-randomforest            4.6_14            r36h6115d3f_0    r\n",
      "r-rbokeh                  0.6.3                     r36_0    r\n",
      "r-rcolorbrewer            1.1_2             r36h6115d3f_0    r\n",
      "r-rcpp                    1.0.1             r36h6115d3f_0    r\n",
      "r-rcpproll                0.3.0             r36h6115d3f_0    r\n",
      "r-readr                   1.3.1             r36h6115d3f_0    r\n",
      "r-readxl                  1.3.1             r36h6115d3f_0    r\n",
      "r-recipes                 0.1.5             r36h6115d3f_0    r\n",
      "r-recommended             3.6.0                     r36_0    r\n",
      "r-rematch                 1.0.1             r36h6115d3f_0    r\n",
      "r-repr                    0.19.2            r36h6115d3f_0    r\n",
      "r-reprex                  0.2.1             r36h6115d3f_0    r\n",
      "r-reshape2                1.4.3             r36h6115d3f_0    r\n",
      "r-rlang                   0.3.4             r36h6115d3f_0    r\n",
      "r-rmarkdown               1.12              r36h6115d3f_0    r\n",
      "r-rpart                   4.1_15            r36h6115d3f_0    r\n",
      "r-rstudioapi              0.10              r36h6115d3f_0    r\n",
      "r-rvest                   0.3.3             r36h6115d3f_0    r\n",
      "r-scales                  1.0.0             r36h6115d3f_0    r\n",
      "r-selectr                 0.4_1             r36h6115d3f_0    r\n",
      "r-shiny                   1.3.2             r36h6115d3f_0    r\n",
      "r-sourcetools             0.1.7             r36h6115d3f_0    r\n",
      "r-spatial                 7.3_11            r36h6115d3f_4    r\n",
      "r-squarem                 2017.10_1         r36h6115d3f_0    r\n",
      "r-stringi                 1.4.3             r36h6115d3f_0    r\n",
      "r-stringr                 1.4.0             r36h6115d3f_0    r\n",
      "r-survival                2.44_1.1          r36h6115d3f_0    r\n",
      "r-sys                     3.2               r36h6115d3f_0    r\n",
      "r-tibble                  2.1.1             r36h6115d3f_0    r\n",
      "r-tidyr                   0.8.3             r36h6115d3f_0    r\n",
      "r-tidyselect              0.2.5             r36h6115d3f_0    r\n",
      "r-tidyverse               1.2.1             r36h6115d3f_0    r\n",
      "r-timedate                3043.102          r36h6115d3f_0    r\n",
      "r-tinytex                 0.12              r36h6115d3f_0    r\n",
      "r-ttr                     0.23_4            r36h6115d3f_0    r\n",
      "r-utf8                    1.1.4             r36h6115d3f_0    r\n",
      "r-uuid                    0.1_2             r36h6115d3f_4    r\n",
      "r-viridislite             0.3.0             r36h6115d3f_0    r\n",
      "r-whisker                 0.3_2             r36h6115d3f_4    r\n",
      "r-withr                   2.1.2             r36h6115d3f_0    r\n",
      "r-xfun                    0.6               r36h6115d3f_0    r\n",
      "r-xml2                    1.2.0             r36h6115d3f_0    r\n",
      "r-xtable                  1.8_4             r36h6115d3f_0    r\n",
      "r-xts                     0.11_2            r36h6115d3f_0    r\n",
      "r-yaml                    2.2.0             r36h6115d3f_0    r\n",
      "r-zoo                     1.8_5             r36h6115d3f_0    r\n",
      "regex                     2020.11.13       py38h2bbff1b_0  \n",
      "requests                  2.25.1             pyhd3eb1b0_0  \n",
      "requests-oauthlib         1.3.0                    pypi_0    pypi\n",
      "rope                      0.18.0                     py_0  \n",
      "rsa                       4.7                      pypi_0    pypi\n",
      "rtree                     0.9.4            py38h21ff451_1  \n",
      "ruamel_yaml               0.15.87          py38he774522_1  \n",
      "scikit-image              0.17.2           py38h1e1f486_0  \n",
      "scikit-learn              0.23.2           py38h47e9c7a_0  \n",
      "scipy                     1.5.2            py38h14eb087_0  \n",
      "seaborn                   0.11.1             pyhd3eb1b0_0  \n",
      "selenium                  3.141.0                  pypi_0    pypi\n",
      "send2trash                1.5.0              pyhd3eb1b0_1  \n",
      "setuptools                52.0.0           py38haa95532_0  \n",
      "simplegeneric             0.8.1                    py38_2  \n",
      "singledispatch            3.4.0.3                 py_1001  \n",
      "sip                       4.19.13          py38ha925a31_0  \n",
      "six                       1.15.0           py38haa95532_0  \n",
      "snappy                    1.1.8                h33f27b4_0  \n",
      "snowballstemmer           2.1.0              pyhd3eb1b0_0  \n",
      "sortedcollections         2.1.0              pyhd3eb1b0_0  \n",
      "sortedcontainers          2.3.0              pyhd3eb1b0_0  \n",
      "soupsieve                 2.1                pyhd3eb1b0_0  \n",
      "sphinx                    3.4.3              pyhd3eb1b0_0  \n",
      "sphinxcontrib             1.0                      py38_1  \n",
      "sphinxcontrib-applehelp   1.0.2                      py_0  \n",
      "sphinxcontrib-devhelp     1.0.2                      py_0  \n",
      "sphinxcontrib-htmlhelp    1.0.3                      py_0  \n",
      "sphinxcontrib-jsmath      1.0.1                      py_0  \n",
      "sphinxcontrib-qthelp      1.0.3                      py_0  \n",
      "sphinxcontrib-serializinghtml 1.1.4                      py_0  \n",
      "sphinxcontrib-websupport  1.2.4                      py_0  \n",
      "spyder                    4.2.0            py38haa95532_0  \n",
      "spyder-kernels            1.10.1           py38haa95532_0  \n",
      "sqlalchemy                1.3.21           py38h2bbff1b_0  \n",
      "sqlite                    3.33.0               h2a8f88b_0  \n",
      "statsmodels               0.12.1           py38h2bbff1b_0  \n",
      "stdiomask                 0.0.6                    pypi_0    pypi\n",
      "sympy                     1.7.1            py38haa95532_0  \n",
      "tbb                       2020.3               h74a9793_0  \n",
      "tblib                     1.7.0                      py_0  \n",
      "tensorboard               2.4.1                    pypi_0    pypi\n",
      "tensorboard-plugin-wit    1.8.0                    pypi_0    pypi\n",
      "tensorflow                2.4.1                    pypi_0    pypi\n",
      "tensorflow-estimator      2.4.0                    pypi_0    pypi\n",
      "termcolor                 1.1.0                    pypi_0    pypi\n",
      "terminado                 0.9.2            py38haa95532_0  \n",
      "testpath                  0.4.4                      py_0  \n",
      "threadpoolctl             2.1.0              pyh5ca1d4c_0  \n",
      "three-merge               0.1.1              pyhd3eb1b0_0  \n",
      "tifffile                  2021.1.14          pyhd3eb1b0_1  \n",
      "tk                        8.6.10               he774522_0  \n",
      "toml                      0.10.1                     py_0  \n",
      "toolz                     0.11.1             pyhd3eb1b0_0  \n",
      "tornado                   6.1              py38h2bbff1b_0  \n",
      "tqdm                      4.56.0             pyhd3eb1b0_0  \n",
      "traitlets                 5.0.5                      py_0  \n",
      "typed-ast                 1.4.2            py38h2bbff1b_1  \n",
      "typing_extensions         3.7.4.3            pyh06a4308_0  \n",
      "ujson                     4.0.2            py38hd77b12b_0  \n",
      "unicodecsv                0.14.1                   py38_0  \n",
      "urllib3                   1.26.3             pyhd3eb1b0_0  \n",
      "vc                        14.2                 h21ff451_1  \n",
      "vs2015_runtime            14.27.29016          h5e58377_2  \n",
      "watchdog                  0.10.4           py38haa95532_0  \n",
      "wcwidth                   0.2.5                      py_0  \n",
      "webencodings              0.5.1                    py38_1  \n",
      "werkzeug                  1.0.1                      py_0  \n",
      "wheel                     0.36.2                   pypi_0    pypi\n",
      "widgetsnbextension        3.5.1                    py38_0  \n",
      "win_inet_pton             1.1.0            py38haa95532_0  \n",
      "win_unicode_console       0.5                      py38_0  \n",
      "wincertstore              0.2                      py38_0  \n",
      "winpty                    0.4.3                         4  \n",
      "wrapt                     1.12.1                   pypi_0    pypi\n",
      "xlrd                      2.0.1              pyhd3eb1b0_0  \n",
      "xlsxwriter                1.3.7                      py_0  \n",
      "xlwings                   0.21.4           py38haa95532_0  \n",
      "xlwt                      1.3.0                    py38_0  \n",
      "xmltodict                 0.12.0                     py_0  \n",
      "xz                        5.2.5                h62dcd97_0  \n",
      "yaml                      0.2.5                he774522_0  \n",
      "yapf                      0.30.0                     py_0  \n",
      "zeromq                    4.3.3                ha925a31_3  \n",
      "zfp                       0.5.5                hd77b12b_4  \n",
      "zict                      2.0.0                      py_0  \n",
      "zipp                      3.4.0              pyhd3eb1b0_0  \n",
      "zlib                      1.2.11               h62dcd97_4  \n",
      "zope                      1.0                      py38_1  \n",
      "zope.event                4.5.0                    py38_0  \n",
      "zope.interface            5.2.0            py38h2bbff1b_0  \n",
      "zstd                      1.4.5                h04227a9_0  \n"
     ]
    }
   ],
   "source": [
    "!conda list"
   ]
  },
  {
   "cell_type": "markdown",
   "metadata": {},
   "source": [
    "### Command mode\n",
    "셀의 테두리가 파란색  \n",
    "셀 입력창 외부의 아무곳을 누르면 Command mode로 바뀜  \n",
    "Edit mode에서 Esc를 누르면 Command mode로 바뀜  \n",
    "\n",
    "단축키 | 설명\n",
    ":----:|:-----------------\n",
    "m | Markdown 입력창으로 변경  \n",
    "y | Code 입력창으로 변경 \n",
    "a | 현재 셀 위에 셀 추가\n",
    "b | 현재 셀 아래에 셀 추가\n",
    "dd | 현재 셀 삭제\n",
    "z | 셀 제거 취소\n",
    "c | 현재 셀 복사하기\n",
    "shift+v | 현재 셀 위에 붙여 넣기\n",
    "v | 현재 셀 아래에 붙여 넣기\n",
    "shift+l | 줄 번호 표시를 토글\n",
    "p | 명령 팔레트를 엶\n",
    "h | 단축키 목록을 표시"
   ]
  },
  {
   "cell_type": "markdown",
   "metadata": {},
   "source": [
    "### Edit mode\n",
    "셀의 테두리가 녹색  \n",
    "셀 입력창을 클릭하면 Edit mode로 바뀜 \n",
    "Command mode에서 Enter 키를 누르면 Edit mode로 바뀜  \n",
    "Edit mode에서 셀에 내용을 입력할 수 있음 \n",
    "\n",
    "단축키 | 설명\n",
    ":----:|:-----------------\n",
    "ctrl + z | undo\n",
    "ctrl + shift + z | redo\n",
    "Tab | 자동 완성\n",
    "shift + Tab | 툴팁, 변수, 함수의 상태 표시\n",
    "ctrl + shift + - | 커서의 위치에서 셀을 잘라 두개로 만듦\n"
   ]
  },
  {
   "cell_type": "markdown",
   "metadata": {},
   "source": [
    "### 공용 단축키 (현재 Notebook에 대하여)\n",
    "\n",
    "키 | 설명\n",
    ":----:|:-----------------\n",
    "위 화살표 | 위 셀로 커서 이동\n",
    "아래 화살표 | 아래 셀로 커서 이동\n",
    "ctrl + Enter | 현재 셀 실행\n",
    "shift + Enter | 현재 셀 실행하고 다음 셀로\n",
    "alt + Enter | 현재 셀 실행하고 아래에 셀 생성\n",
    "Cell > Run Cells | 모든 셀 순서대로 실행\n",
    "Cell > Current Outputs > Clear | 현재 셀의 출력을 삭제\n",
    "Cell > All Output > Clear | 모든 셀의 출력을 삭제\n",
    "Kernel > Interrupt | 실행중인 코드를 강제 종료\n",
    "Kernel > Restart | 실행중인 코드가 중지되며 커널이 재시작됨\n",
    "Kernel > Restart & Clear Output | 실행중인 코드가 중지되며 실행 결과도 삭제됨\n",
    "Kernel > Restart & Run All | 실행중인 코드가 중지되며 실행 결과도 삭제되고 모든 셀이 순서대로 실행됨\n",
    "Kernel > Reconnect | 인터넷 연결이 끊어졌을 때 연결을 재시도\n",
    "Kernel > Shutdown | 커널을 종료\n",
    "File > Close and Halt | 커널을 종료하고 창을 닫음"
   ]
  },
  {
   "cell_type": "markdown",
   "metadata": {},
   "source": [
    "### shell (명령 프롬프트) 이용\n",
    "!명령어  \n",
    "예) !pip install p2j # 패키지 설치"
   ]
  },
  {
   "cell_type": "markdown",
   "metadata": {
    "variables": {
     "list(range(5))": "[0, 1, 2, 3, 4]"
    }
   },
   "source": [
    "## Markdown 명령어\n",
    "\n",
    "### heading\n",
    "* \\# 장\n",
    "* \\#\\# 절\n",
    "* \\#\\#\\# 관\n",
    "* \\#\\#\\#\\# 조\n",
    "* \\#\\#\\#\\#\\# 항\n",
    "* \\#\\#\\#\\#\\#\\# 호  \n",
    "\n",
    "### 줄바꿈\n",
    "줄이 바뀌지 않는다.\n",
    "줄 끝에 빈 칸이 2개면 줄바꿈하고  \n",
    "새 줄이 시작된다.\n",
    "\n",
    "위에 빈 줄이면 새 문단이 시작된다.\n",
    "\n",
    "###  폰트\n",
    "\\*italic font\\* : *italic font*  \n",
    "\\_italic font\\_ : _italic font_  \n",
    "\\*\\*bold font\\*\\* : **bold font**  \n",
    "\\_\\_bold font\\_\\_ : __bold font__  \n",
    "\\*\\*\\*bold italic font\\*\\*\\* : ___bold italic font___  \n",
    "\\_\\_\\_bold italic font\\_\\_\\_ : ___bold italic font___  \n",
    "\n",
    "subscript and superscript H\\~2\\~\\^1\\^ : H~2~^1^  \n",
    "\\~\\~strikethrough\\~\\~ : ~~strikethrough~~  \n",
    "endash \\-\\- : --  \n",
    "emdash \\-\\-\\- : ---  \n",
    "ellipsis \\.\\.\\. : ...  \n",
    "\n",
    "one space : a&nbsp;b  \n",
    "two spaces : a&nbsp;&nbsp;b  \n",
    "two spaces : a&nbsp; b  \n",
    "two spaces : a&ensp;b  \n",
    "four spaces : a&nbsp;&nbsp;&nbsp;&nbsp;b  \n",
    "four spaces : a&nbsp; &nbsp; b  \n",
    "four spaces : a&emsp;b  \n",
    "\n",
    "\n",
    "### 가로줄\n",
    "\n",
    "horizontal rule (위 아래 빈 줄 필요) \\*\\*\\* 또는 \\_\\_\\_\n",
    "\n",
    "***  \n",
    "\n",
    "___\n",
    "\n",
    "### 인용\n",
    "* block quoting(위, 아래 빈 줄 필요) \\>로 시작, 줄바꿈하려면 줄 끝에 빈 칸이 2개\n",
    "\n",
    "> blah blah block quote blah blah block quote blah blah block quote blah blah block quote blah blah block quote blah blah block quote blah blah block quote blah blah block quote  \n",
    "blah blah block\n",
    " \n",
    "> block quote  \n",
    "block quote  \n",
    ">> block quote  \n",
    "block quote  \n",
    ">>> block quote  \n",
    "block quote  \n",
    "\n",
    "###  목록\n",
    "* unordered list\n",
    "* item 2\n",
    "  + sub-item 1\n",
    "  + sub-item 2  \n",
    "    + sub-sub-item 1  \n",
    "    - sub-sub-item 2\n",
    "  \n",
    "  \n",
    "1. ordered list  \n",
    "3. item 2  \n",
    "  1. sub-item 1  \n",
    "  1 sub-item 2  \n",
    "  * sub-item 2  \n",
    "3. item 3  \n",
    "  - sub-item 1  \n",
    "  + sub-item 2  \n",
    "  \n",
    "### 링크와 이미지\n",
    "링크 [Jupyter Notebook](https://jupyter.org/)  \n",
    "링크 [Jupyter Notebook](https://jupyter.org/ \"mouse-over title\")  \n",
    "\n",
    "이미지 첨부하기   \n",
    "* drag & drop으로 첨부  \n",
    "* \\!\\[동전 1개](coin_1.jpg) : ![동전 1개](coin_1.jpg)  \n",
    "\n",
    "### 수식\n",
    "\n",
    "* in-line 수식(왼쪽 \\$ 또는 \\\\>의 오른쪽에 빈 칸 있으면 안됨)  \n",
    "\t+ in-line 수식: $P(A|B)=\\frac{P(B|A)P(A)}{P(B|A)P(A)+P(B|A^C )P(A^C )}$  \n",
    "\t+ in-line 수식: $P(A|B)=\\frac{P(B|A)P(A)}{P(B|A)P(A)+P(B|A^C )P(A^C )}$   \n",
    "* displayed 수식  \n",
    "  $$P(A|B)=\\frac{P(B|A)P(A)}{P(B|A)P(A)+P(B|A^C )P(A^C )}$$  \n",
    "\n",
    "### 표  \n",
    "\n",
    "Table Header | Second Header\n",
    ":-------------:|:-------------:\n",
    "Table Cell | Cell 2\n",
    "Cell 3 | Cell 4\n",
    "\n",
    "* 수식을 포함하는 markdown 표 (표의 위, 아래 빈 줄)  \n",
    "left-justified(regular), centered, right-justified, left-justified columns\n",
    "\n",
    "Header|Header|Header|Header\n",
    ":-|:-:|-:|:-\n",
    "Cell|Cell|Cell|Cell\n",
    "Cell|Cell|Cell|Cell\n",
    "Cell|Cell|Cell|Cell\n",
    "Cell|$x^2$|$\\int {\\sin x} dx$|Cell\n",
    "\n",
    "* 수식을 포함하는 html 표  \n",
    "<table width=\"600\" rules=\"all\" align=\"center\">\n",
    "<tr align=\"center\">\n",
    "<th width=\"15%\"></th>\n",
    "<th width=\"20%\">자료</th>\n",
    "<th width=\"15%\">평균</th>\n",
    "<th width=\"15%\">분산</th>\n",
    "<th width=\"15%\">표준편차</th>\n",
    "<th width=\"20%\">특성값</th>\n",
    "</tr>\n",
    "<tr align=\"center\">\n",
    "<td>모집단</td>\n",
    "<td>$\\xi_1,...,\\xi_N$</td>\n",
    "<td>$\\mu$</td>\n",
    "<td>$\\sigma^2$</td>\n",
    "<td>$\\sigma$</td>\n",
    "<td>모수</td>\n",
    "</tr>\n",
    "<tr align=\"center\">\n",
    "<td>표본</td>\n",
    "<td>$x_1,...,x_n$</td>\n",
    "<td>$\\bar{x}$</td>\n",
    "<td>$s^2$</td>\n",
    "<td>$s$</td>\n",
    "<td>관측값,추정값</td>\n",
    "</tr>\n",
    "</tr>\n",
    "<tr align=\"center\">\n",
    "<td>무작위표본</td>\n",
    "<td>$X_1,...,X_n$</td>\n",
    "<td>$\\bar{X}$</td>\n",
    "<td>$S^2$</td>\n",
    "<td>$S$</td>\n",
    "<td>통계량,추정량</td>\n",
    "</tr>\n",
    "</table>\n",
    "\n",
    "### 코드\n",
    "* inline code: `range(5)`\n",
    "* inline code 출력: `range(5)` is {{list(range(5))}}  \n",
    "  *(nbextensions의 Python Markup을 Enable해야 함)\n",
    "* Using Markdown  \n",
    "```python\n",
    "str = \"This is block level code\"\n",
    "print(str)\n",
    "```\n",
    "* Using Markup Tags  \n",
    "<code>python\n",
    "str = \"This is a block level code\"\n",
    "print(str)\n",
    "</code>"
   ]
  },
  {
   "cell_type": "markdown",
   "metadata": {},
   "source": [
    "## 객체"
   ]
  },
  {
   "cell_type": "markdown",
   "metadata": {},
   "source": [
    "### 객체"
   ]
  },
  {
   "cell_type": "code",
   "execution_count": 1,
   "metadata": {
    "ExecuteTime": {
     "end_time": "2021-02-24T04:37:59.778902Z",
     "start_time": "2021-02-24T04:37:59.773914Z"
    },
    "scrolled": true
   },
   "outputs": [
    {
     "data": {
      "text/plain": [
       "[1, 2, 3, 4.5]"
      ]
     },
     "execution_count": 1,
     "metadata": {},
     "output_type": "execute_result"
    }
   ],
   "source": [
    "mylist = [1, 2, 3, 4.5]\n",
    "mylist"
   ]
  },
  {
   "cell_type": "code",
   "execution_count": 3,
   "metadata": {
    "ExecuteTime": {
     "end_time": "2021-02-24T03:37:16.237616Z",
     "start_time": "2021-02-24T03:37:16.224164Z"
    }
   },
   "outputs": [
    {
     "data": {
      "text/plain": [
       "list"
      ]
     },
     "execution_count": 3,
     "metadata": {},
     "output_type": "execute_result"
    }
   ],
   "source": [
    "type(mylist)"
   ]
  },
  {
   "cell_type": "code",
   "execution_count": 4,
   "metadata": {
    "ExecuteTime": {
     "end_time": "2021-02-24T03:37:16.244599Z",
     "start_time": "2021-02-24T03:37:16.238614Z"
    }
   },
   "outputs": [
    {
     "name": "stdout",
     "output_type": "stream",
     "text": [
      "Hi\n"
     ]
    }
   ],
   "source": [
    "print(\"Hi\")     # Out[] 없음"
   ]
  },
  {
   "cell_type": "markdown",
   "metadata": {},
   "source": [
    "### 객체의 내용(DocString)"
   ]
  },
  {
   "cell_type": "code",
   "execution_count": 5,
   "metadata": {
    "ExecuteTime": {
     "end_time": "2021-02-24T03:37:16.250581Z",
     "start_time": "2021-02-24T03:37:16.245596Z"
    }
   },
   "outputs": [],
   "source": [
    "mylist?"
   ]
  },
  {
   "cell_type": "code",
   "execution_count": 6,
   "metadata": {
    "ExecuteTime": {
     "end_time": "2021-02-24T03:37:16.256566Z",
     "start_time": "2021-02-24T03:37:16.251579Z"
    }
   },
   "outputs": [],
   "source": [
    "?mylist"
   ]
  },
  {
   "cell_type": "code",
   "execution_count": 7,
   "metadata": {
    "ExecuteTime": {
     "end_time": "2021-02-24T03:37:16.261553Z",
     "start_time": "2021-02-24T03:37:16.257563Z"
    }
   },
   "outputs": [],
   "source": [
    "def my_add(x, y):\n",
    "    \"\"\"\n",
    "    두 수를 더한다\n",
    "    입력: x, y\n",
    "    출력: x+y\n",
    "    \"\"\"\n",
    "    return x + y"
   ]
  },
  {
   "cell_type": "code",
   "execution_count": 8,
   "metadata": {
    "ExecuteTime": {
     "end_time": "2021-02-24T03:37:16.269536Z",
     "start_time": "2021-02-24T03:37:16.264547Z"
    }
   },
   "outputs": [
    {
     "name": "stdout",
     "output_type": "stream",
     "text": [
      "12\n"
     ]
    }
   ],
   "source": [
    "print(my_add(5, 7))"
   ]
  },
  {
   "cell_type": "markdown",
   "metadata": {},
   "source": [
    "### 함수의  docstring"
   ]
  },
  {
   "cell_type": "code",
   "execution_count": 9,
   "metadata": {
    "ExecuteTime": {
     "end_time": "2021-02-24T03:37:16.323387Z",
     "start_time": "2021-02-24T03:37:16.271527Z"
    }
   },
   "outputs": [],
   "source": [
    "my_add?"
   ]
  },
  {
   "cell_type": "code",
   "execution_count": 10,
   "metadata": {
    "ExecuteTime": {
     "end_time": "2021-02-24T03:37:16.329374Z",
     "start_time": "2021-02-24T03:37:16.324384Z"
    }
   },
   "outputs": [],
   "source": [
    "?my_add"
   ]
  },
  {
   "cell_type": "markdown",
   "metadata": {},
   "source": [
    "### 함수의 소스 코드"
   ]
  },
  {
   "cell_type": "code",
   "execution_count": 11,
   "metadata": {
    "ExecuteTime": {
     "end_time": "2021-02-24T03:37:16.340343Z",
     "start_time": "2021-02-24T03:37:16.331366Z"
    }
   },
   "outputs": [],
   "source": [
    "my_add??"
   ]
  },
  {
   "cell_type": "code",
   "execution_count": 12,
   "metadata": {
    "ExecuteTime": {
     "end_time": "2021-02-24T03:37:16.572726Z",
     "start_time": "2021-02-24T03:37:16.342337Z"
    }
   },
   "outputs": [],
   "source": [
    "import numpy as np"
   ]
  },
  {
   "cell_type": "markdown",
   "metadata": {},
   "source": [
    "### wildcard(*)로 객체 검색하기"
   ]
  },
  {
   "cell_type": "code",
   "execution_count": 13,
   "metadata": {
    "ExecuteTime": {
     "end_time": "2021-02-24T03:37:16.583691Z",
     "start_time": "2021-02-24T03:37:16.574716Z"
    }
   },
   "outputs": [],
   "source": [
    "??my_add"
   ]
  },
  {
   "cell_type": "code",
   "execution_count": 14,
   "metadata": {
    "ExecuteTime": {
     "end_time": "2021-02-24T03:37:18.342543Z",
     "start_time": "2021-02-24T03:37:18.311073Z"
    }
   },
   "outputs": [],
   "source": [
    "np.a*?"
   ]
  },
  {
   "cell_type": "markdown",
   "metadata": {},
   "source": [
    "### Tab 키를 이용한 자동 완성\n",
    "\n",
    ">  my(Tab)\n",
    "\n",
    ">  mylist.(Tab)"
   ]
  },
  {
   "cell_type": "markdown",
   "metadata": {},
   "source": [
    "### 변수의 상태\n",
    "1. 변수의 docstring 표시   \n",
    "  * 변수에 ?를 붙여 셀을 실행   \n",
    "1. 변수의 tooltip 표시   \n",
    "  * 변수를 입력하고 Shift+Tab을 누름"
   ]
  },
  {
   "cell_type": "markdown",
   "metadata": {},
   "source": [
    "## 코드 저장"
   ]
  },
  {
   "cell_type": "markdown",
   "metadata": {},
   "source": [
    "### 한글을 포함하는 Jupyter notebook 전체를 PDF 파일로 저장하기\n",
    "\n",
    "C:\\\\ide\\\\anaconda3\\\\pkgs\\\\nbconvert...\\\\share\\\\jupyter\\\\nbconvert\\\\templates\\\\latex\\\\base.tex.j2 파일에 다음 추가  \n",
    "&emsp;\\\\usepackage{kotex}   \n",
    "File...Download as...PDF via LaTeX (.pdf)"
   ]
  },
  {
   "cell_type": "markdown",
   "metadata": {},
   "source": [
    "### Jupyter notebook 전체를 python script로 저장하기\n",
    "File...Download as...Python (.py)\n",
    "\n",
    "Jupyter notebook과 같은 이름으로 다운로드 폴더에 저장됨"
   ]
  },
  {
   "cell_type": "markdown",
   "metadata": {},
   "source": [
    "### save several cells as a python script"
   ]
  },
  {
   "cell_type": "code",
   "execution_count": 18,
   "metadata": {},
   "outputs": [
    {
     "name": "stdout",
     "output_type": "stream",
     "text": [
      "The following commands were written to file `my_add.py`:\n",
      "def my_add(x, y):\n",
      "    \"\"\"\n",
      "    두 수를 더한다\n",
      "    입력: x, y\n",
      "    출력: x+y\n",
      "    \"\"\"\n",
      "    return x + y\n",
      "print(my_add(5, 7))\n"
     ]
    }
   ],
   "source": [
    "%save -r -f my_add.py 8-9"
   ]
  },
  {
   "cell_type": "markdown",
   "metadata": {},
   "source": [
    "### python script를 Jupyter notebook으로 변환하기\n",
    "\n",
    "명령프롬프트 창에서\n",
    "\n",
    "pip install p2j\n",
    "\n",
    "p2j *file*.py"
   ]
  },
  {
   "cell_type": "markdown",
   "metadata": {},
   "source": [
    "### script file의 전체 내용을 한 셀에 불러오기"
   ]
  },
  {
   "cell_type": "code",
   "execution_count": 19,
   "metadata": {},
   "outputs": [
    {
     "name": "stdout",
     "output_type": "stream",
     "text": [
      "12\n"
     ]
    }
   ],
   "source": [
    "# %load my_add.py\n",
    "def my_add(x, y):\n",
    "    \"\"\"\n",
    "    두 수를 더한다\n",
    "    입력: x, y\n",
    "    출력: x+y\n",
    "    \"\"\"\n",
    "    return x + y\n",
    "print(my_add(5, 7))\n"
   ]
  },
  {
   "cell_type": "markdown",
   "metadata": {},
   "source": [
    "### Jupyter notebooks를 합치기\n",
    "\n",
    "1. 첫 셀 입력창 외부 클릭하여 Command mode(파란색 경계선)로 바꾸고 Shift-Down으로 아래 셀들을 선택(또는 처음 셀 입력창 외부 클릭, 마지막 셀 입력창 외부 Shift-Click)하고 Ctrl-C로 복사\n",
    "2. 붙여넣을 notebook에 빈 셀을 만들고 입력창 외부 클릭함\n",
    "3. Ctrl-V로 붙여넣음"
   ]
  },
  {
   "cell_type": "markdown",
   "metadata": {},
   "source": [
    "## 실행"
   ]
  },
  {
   "cell_type": "markdown",
   "metadata": {},
   "source": [
    "### 매직 명령어\n",
    "\n",
    "매직 명령어 | 설명\n",
    ":----:|:-----------------\n",
    "%pwd | 현재 디렉토리 경로 출력\n",
    "%time 명령어 | 명령어의 실행 시간을 측정하여 표시\n",
    "%timeit 명령어 | 명령어를 여러 번 실행한 결과를 요약하여 표시\n",
    "%ls | 현재 폴더의 파일 목록을 출력\n",
    "%matplotlib inline | 코드 셀 바로 아래에 그래프 출력\n",
    "%history -l 3 | 최근 3개의 코드 셀 출력"
   ]
  },
  {
   "cell_type": "markdown",
   "metadata": {},
   "source": [
    "### 명령어의 실행 시간 측정하기(여러 번 실행하여 빨랐던 몇 번에 대한 평균)"
   ]
  },
  {
   "cell_type": "code",
   "execution_count": 16,
   "metadata": {},
   "outputs": [
    {
     "name": "stdout",
     "output_type": "stream",
     "text": [
      "7.9 ms ± 1.19 ms per loop (mean ± std. dev. of 7 runs, 100 loops each)\n"
     ]
    }
   ],
   "source": [
    "%timeit a = [x*x for x in np.random.randn(10000)]"
   ]
  },
  {
   "cell_type": "code",
   "execution_count": 17,
   "metadata": {},
   "outputs": [
    {
     "name": "stdout",
     "output_type": "stream",
     "text": [
      "1.33 ms ± 172 µs per loop (mean ± std. dev. of 7 runs, 100 loops each)\n"
     ]
    }
   ],
   "source": [
    "%timeit a = np.random.randn(10000); a = a * a"
   ]
  },
  {
   "cell_type": "markdown",
   "metadata": {},
   "source": [
    "### 스크립트 파일 실행 (automagic이 활성화 되어 있으면 % 생략 가능)"
   ]
  },
  {
   "cell_type": "code",
   "execution_count": 20,
   "metadata": {},
   "outputs": [
    {
     "name": "stdout",
     "output_type": "stream",
     "text": [
      "12\n"
     ]
    }
   ],
   "source": [
    "!python my_add.py"
   ]
  },
  {
   "cell_type": "code",
   "execution_count": 21,
   "metadata": {},
   "outputs": [
    {
     "name": "stdout",
     "output_type": "stream",
     "text": [
      "12\n"
     ]
    }
   ],
   "source": [
    "!ipython my_add.py"
   ]
  },
  {
   "cell_type": "code",
   "execution_count": 22,
   "metadata": {},
   "outputs": [
    {
     "name": "stdout",
     "output_type": "stream",
     "text": [
      "12\n"
     ]
    }
   ],
   "source": [
    "%run my_add.py"
   ]
  },
  {
   "cell_type": "markdown",
   "metadata": {},
   "source": [
    "### 오류가 발생한 경우에 사후 분석 디버깅(pdb)\n",
    "\n",
    "  p 표현식\n",
    "  \n",
    "  q 디버거 종료"
   ]
  },
  {
   "cell_type": "code",
   "execution_count": 23,
   "metadata": {},
   "outputs": [
    {
     "ename": "NameError",
     "evalue": "name 'z' is not defined",
     "output_type": "error",
     "traceback": [
      "\u001b[1;31m---------------------------------------------------------------------------\u001b[0m",
      "\u001b[1;31mNameError\u001b[0m                                 Traceback (most recent call last)",
      "\u001b[1;32mc:\\ide\\notebook\\error.py\u001b[0m in \u001b[0;36m<module>\u001b[1;34m\u001b[0m\n\u001b[0;32m      6\u001b[0m \u001b[1;32mif\u001b[0m \u001b[0m__name__\u001b[0m \u001b[1;33m==\u001b[0m \u001b[1;34m\"__main__\"\u001b[0m\u001b[1;33m:\u001b[0m\u001b[1;33m\u001b[0m\u001b[1;33m\u001b[0m\u001b[0m\n\u001b[0;32m      7\u001b[0m     \u001b[0ma\u001b[0m\u001b[1;33m,\u001b[0m \u001b[0mb\u001b[0m \u001b[1;33m=\u001b[0m \u001b[1;36m3\u001b[0m\u001b[1;33m,\u001b[0m \u001b[1;36m4\u001b[0m\u001b[1;33m\u001b[0m\u001b[1;33m\u001b[0m\u001b[0m\n\u001b[1;32m----> 8\u001b[1;33m     \u001b[0mz\u001b[0m \u001b[1;33m=\u001b[0m \u001b[0mmy_add\u001b[0m\u001b[1;33m(\u001b[0m\u001b[0ma\u001b[0m\u001b[1;33m,\u001b[0m \u001b[0mb\u001b[0m\u001b[1;33m)\u001b[0m\u001b[1;33m\u001b[0m\u001b[1;33m\u001b[0m\u001b[0m\n\u001b[0m\u001b[0;32m      9\u001b[0m     \u001b[0mprint\u001b[0m\u001b[1;33m(\u001b[0m\u001b[0mz\u001b[0m\u001b[1;33m)\u001b[0m\u001b[1;33m\u001b[0m\u001b[1;33m\u001b[0m\u001b[0m\n",
      "\u001b[1;32mc:\\ide\\notebook\\error.py\u001b[0m in \u001b[0;36mmy_add\u001b[1;34m(x, y)\u001b[0m\n\u001b[0;32m      1\u001b[0m \u001b[1;32mdef\u001b[0m \u001b[0mmy_add\u001b[0m\u001b[1;33m(\u001b[0m\u001b[0mx\u001b[0m\u001b[1;33m,\u001b[0m \u001b[0my\u001b[0m\u001b[1;33m)\u001b[0m\u001b[1;33m:\u001b[0m\u001b[1;33m\u001b[0m\u001b[1;33m\u001b[0m\u001b[0m\n\u001b[0;32m      2\u001b[0m     \u001b[1;34m\"\"\" 두 수를 더한다 \"\"\"\u001b[0m\u001b[1;33m\u001b[0m\u001b[1;33m\u001b[0m\u001b[0m\n\u001b[1;32m----> 3\u001b[1;33m     \u001b[0mout\u001b[0m \u001b[1;33m=\u001b[0m \u001b[0mx\u001b[0m \u001b[1;33m+\u001b[0m \u001b[0mz\u001b[0m\u001b[1;33m\u001b[0m\u001b[1;33m\u001b[0m\u001b[0m\n\u001b[0m\u001b[0;32m      4\u001b[0m     \u001b[1;32mreturn\u001b[0m \u001b[0mout\u001b[0m \u001b[1;33m+\u001b[0m \u001b[0my\u001b[0m\u001b[1;33m\u001b[0m\u001b[1;33m\u001b[0m\u001b[0m\n\u001b[0;32m      5\u001b[0m \u001b[1;33m\u001b[0m\u001b[0m\n",
      "\u001b[1;31mNameError\u001b[0m: name 'z' is not defined"
     ]
    }
   ],
   "source": [
    "%run error.py"
   ]
  },
  {
   "cell_type": "code",
   "execution_count": 24,
   "metadata": {},
   "outputs": [
    {
     "name": "stdout",
     "output_type": "stream",
     "text": [
      "> \u001b[1;32mc:\\ide\\notebook\\error.py\u001b[0m(3)\u001b[0;36mmy_add\u001b[1;34m()\u001b[0m\n",
      "\u001b[1;32m      1 \u001b[1;33m\u001b[1;32mdef\u001b[0m \u001b[0mmy_add\u001b[0m\u001b[1;33m(\u001b[0m\u001b[0mx\u001b[0m\u001b[1;33m,\u001b[0m \u001b[0my\u001b[0m\u001b[1;33m)\u001b[0m\u001b[1;33m:\u001b[0m\u001b[1;33m\u001b[0m\u001b[1;33m\u001b[0m\u001b[0m\n",
      "\u001b[0m\u001b[1;32m      2 \u001b[1;33m    \u001b[1;34m\"\"\" 두 수를 더한다 \"\"\"\u001b[0m\u001b[1;33m\u001b[0m\u001b[1;33m\u001b[0m\u001b[0m\n",
      "\u001b[0m\u001b[1;32m----> 3 \u001b[1;33m    \u001b[0mout\u001b[0m \u001b[1;33m=\u001b[0m \u001b[0mx\u001b[0m \u001b[1;33m+\u001b[0m \u001b[0mz\u001b[0m\u001b[1;33m\u001b[0m\u001b[1;33m\u001b[0m\u001b[0m\n",
      "\u001b[0m\u001b[1;32m      4 \u001b[1;33m    \u001b[1;32mreturn\u001b[0m \u001b[0mout\u001b[0m \u001b[1;33m+\u001b[0m \u001b[0my\u001b[0m\u001b[1;33m\u001b[0m\u001b[1;33m\u001b[0m\u001b[0m\n",
      "\u001b[0m\u001b[1;32m      5 \u001b[1;33m\u001b[1;33m\u001b[0m\u001b[0m\n",
      "\u001b[0m\n",
      "ipdb> p z\n",
      "*** NameError: name 'z' is not defined\n",
      "ipdb> p y\n",
      "4\n",
      "ipdb> q\n"
     ]
    }
   ],
   "source": [
    "debug"
   ]
  },
  {
   "cell_type": "markdown",
   "metadata": {},
   "source": [
    "### 스크립트에 디버거(pdb) 실행\n",
    "\n",
    "  n 현재 줄 실행하고 다음 줄로\n",
    "  \n",
    "  r 현재 함수가 값을 리턴할 때까지 실행\n",
    "  \n",
    "  p 표현식\n",
    "  \n",
    "  q 디버거 종료"
   ]
  },
  {
   "cell_type": "code",
   "execution_count": 25,
   "metadata": {},
   "outputs": [
    {
     "name": "stdout",
     "output_type": "stream",
     "text": [
      "Breakpoint 1 at c:\\ide\\notebook\\error.py:1\n",
      "NOTE: Enter 'c' at the ipdb>  prompt to continue execution.\n",
      "> \u001b[1;32mc:\\ide\\notebook\\error.py\u001b[0m(1)\u001b[0;36m<module>\u001b[1;34m()\u001b[0m\n",
      "\u001b[1;31m1\u001b[1;32m---> 1 \u001b[1;33m\u001b[1;32mdef\u001b[0m \u001b[0mmy_add\u001b[0m\u001b[1;33m(\u001b[0m\u001b[0mx\u001b[0m\u001b[1;33m,\u001b[0m \u001b[0my\u001b[0m\u001b[1;33m)\u001b[0m\u001b[1;33m:\u001b[0m\u001b[1;33m\u001b[0m\u001b[1;33m\u001b[0m\u001b[0m\n",
      "\u001b[0m\u001b[1;32m      2 \u001b[1;33m    \u001b[1;34m\"\"\" 두 수를 더한다 \"\"\"\u001b[0m\u001b[1;33m\u001b[0m\u001b[1;33m\u001b[0m\u001b[0m\n",
      "\u001b[0m\u001b[1;32m      3 \u001b[1;33m    \u001b[0mout\u001b[0m \u001b[1;33m=\u001b[0m \u001b[0mx\u001b[0m \u001b[1;33m+\u001b[0m \u001b[0mz\u001b[0m\u001b[1;33m\u001b[0m\u001b[1;33m\u001b[0m\u001b[0m\n",
      "\u001b[0m\u001b[1;32m      4 \u001b[1;33m    \u001b[1;32mreturn\u001b[0m \u001b[0mout\u001b[0m \u001b[1;33m+\u001b[0m \u001b[0my\u001b[0m\u001b[1;33m\u001b[0m\u001b[1;33m\u001b[0m\u001b[0m\n",
      "\u001b[0m\u001b[1;32m      5 \u001b[1;33m\u001b[1;33m\u001b[0m\u001b[0m\n",
      "\u001b[0m\n",
      "ipdb> n\n",
      "> \u001b[1;32mc:\\ide\\notebook\\error.py\u001b[0m(6)\u001b[0;36m<module>\u001b[1;34m()\u001b[0m\n",
      "\u001b[1;32m      4 \u001b[1;33m    \u001b[1;32mreturn\u001b[0m \u001b[0mout\u001b[0m \u001b[1;33m+\u001b[0m \u001b[0my\u001b[0m\u001b[1;33m\u001b[0m\u001b[1;33m\u001b[0m\u001b[0m\n",
      "\u001b[0m\u001b[1;32m      5 \u001b[1;33m\u001b[1;33m\u001b[0m\u001b[0m\n",
      "\u001b[0m\u001b[1;32m----> 6 \u001b[1;33m\u001b[1;32mif\u001b[0m \u001b[0m__name__\u001b[0m \u001b[1;33m==\u001b[0m \u001b[1;34m\"__main__\"\u001b[0m\u001b[1;33m:\u001b[0m\u001b[1;33m\u001b[0m\u001b[1;33m\u001b[0m\u001b[0m\n",
      "\u001b[0m\u001b[1;32m      7 \u001b[1;33m    \u001b[0ma\u001b[0m\u001b[1;33m,\u001b[0m \u001b[0mb\u001b[0m \u001b[1;33m=\u001b[0m \u001b[1;36m3\u001b[0m\u001b[1;33m,\u001b[0m \u001b[1;36m4\u001b[0m\u001b[1;33m\u001b[0m\u001b[1;33m\u001b[0m\u001b[0m\n",
      "\u001b[0m\u001b[1;32m      8 \u001b[1;33m    \u001b[0mz\u001b[0m \u001b[1;33m=\u001b[0m \u001b[0mmy_add\u001b[0m\u001b[1;33m(\u001b[0m\u001b[0ma\u001b[0m\u001b[1;33m,\u001b[0m \u001b[0mb\u001b[0m\u001b[1;33m)\u001b[0m\u001b[1;33m\u001b[0m\u001b[1;33m\u001b[0m\u001b[0m\n",
      "\u001b[0m\n",
      "ipdb> n\n",
      "> \u001b[1;32mc:\\ide\\notebook\\error.py\u001b[0m(7)\u001b[0;36m<module>\u001b[1;34m()\u001b[0m\n",
      "\u001b[1;32m      5 \u001b[1;33m\u001b[1;33m\u001b[0m\u001b[0m\n",
      "\u001b[0m\u001b[1;32m      6 \u001b[1;33m\u001b[1;32mif\u001b[0m \u001b[0m__name__\u001b[0m \u001b[1;33m==\u001b[0m \u001b[1;34m\"__main__\"\u001b[0m\u001b[1;33m:\u001b[0m\u001b[1;33m\u001b[0m\u001b[1;33m\u001b[0m\u001b[0m\n",
      "\u001b[0m\u001b[1;32m----> 7 \u001b[1;33m    \u001b[0ma\u001b[0m\u001b[1;33m,\u001b[0m \u001b[0mb\u001b[0m \u001b[1;33m=\u001b[0m \u001b[1;36m3\u001b[0m\u001b[1;33m,\u001b[0m \u001b[1;36m4\u001b[0m\u001b[1;33m\u001b[0m\u001b[1;33m\u001b[0m\u001b[0m\n",
      "\u001b[0m\u001b[1;32m      8 \u001b[1;33m    \u001b[0mz\u001b[0m \u001b[1;33m=\u001b[0m \u001b[0mmy_add\u001b[0m\u001b[1;33m(\u001b[0m\u001b[0ma\u001b[0m\u001b[1;33m,\u001b[0m \u001b[0mb\u001b[0m\u001b[1;33m)\u001b[0m\u001b[1;33m\u001b[0m\u001b[1;33m\u001b[0m\u001b[0m\n",
      "\u001b[0m\u001b[1;32m      9 \u001b[1;33m    \u001b[0mprint\u001b[0m\u001b[1;33m(\u001b[0m\u001b[0mz\u001b[0m\u001b[1;33m)\u001b[0m\u001b[1;33m\u001b[0m\u001b[1;33m\u001b[0m\u001b[0m\n",
      "\u001b[0m\n",
      "ipdb> n\n",
      "> \u001b[1;32mc:\\ide\\notebook\\error.py\u001b[0m(8)\u001b[0;36m<module>\u001b[1;34m()\u001b[0m\n",
      "\u001b[1;32m      5 \u001b[1;33m\u001b[1;33m\u001b[0m\u001b[0m\n",
      "\u001b[0m\u001b[1;32m      6 \u001b[1;33m\u001b[1;32mif\u001b[0m \u001b[0m__name__\u001b[0m \u001b[1;33m==\u001b[0m \u001b[1;34m\"__main__\"\u001b[0m\u001b[1;33m:\u001b[0m\u001b[1;33m\u001b[0m\u001b[1;33m\u001b[0m\u001b[0m\n",
      "\u001b[0m\u001b[1;32m      7 \u001b[1;33m    \u001b[0ma\u001b[0m\u001b[1;33m,\u001b[0m \u001b[0mb\u001b[0m \u001b[1;33m=\u001b[0m \u001b[1;36m3\u001b[0m\u001b[1;33m,\u001b[0m \u001b[1;36m4\u001b[0m\u001b[1;33m\u001b[0m\u001b[1;33m\u001b[0m\u001b[0m\n",
      "\u001b[0m\u001b[1;32m----> 8 \u001b[1;33m    \u001b[0mz\u001b[0m \u001b[1;33m=\u001b[0m \u001b[0mmy_add\u001b[0m\u001b[1;33m(\u001b[0m\u001b[0ma\u001b[0m\u001b[1;33m,\u001b[0m \u001b[0mb\u001b[0m\u001b[1;33m)\u001b[0m\u001b[1;33m\u001b[0m\u001b[1;33m\u001b[0m\u001b[0m\n",
      "\u001b[0m\u001b[1;32m      9 \u001b[1;33m    \u001b[0mprint\u001b[0m\u001b[1;33m(\u001b[0m\u001b[0mz\u001b[0m\u001b[1;33m)\u001b[0m\u001b[1;33m\u001b[0m\u001b[1;33m\u001b[0m\u001b[0m\n",
      "\u001b[0m\n",
      "ipdb> n\n",
      "NameError: name 'z' is not defined\n",
      "> \u001b[1;32mc:\\ide\\notebook\\error.py\u001b[0m(8)\u001b[0;36m<module>\u001b[1;34m()\u001b[0m\n",
      "\u001b[1;32m      5 \u001b[1;33m\u001b[1;33m\u001b[0m\u001b[0m\n",
      "\u001b[0m\u001b[1;32m      6 \u001b[1;33m\u001b[1;32mif\u001b[0m \u001b[0m__name__\u001b[0m \u001b[1;33m==\u001b[0m \u001b[1;34m\"__main__\"\u001b[0m\u001b[1;33m:\u001b[0m\u001b[1;33m\u001b[0m\u001b[1;33m\u001b[0m\u001b[0m\n",
      "\u001b[0m\u001b[1;32m      7 \u001b[1;33m    \u001b[0ma\u001b[0m\u001b[1;33m,\u001b[0m \u001b[0mb\u001b[0m \u001b[1;33m=\u001b[0m \u001b[1;36m3\u001b[0m\u001b[1;33m,\u001b[0m \u001b[1;36m4\u001b[0m\u001b[1;33m\u001b[0m\u001b[1;33m\u001b[0m\u001b[0m\n",
      "\u001b[0m\u001b[1;32m----> 8 \u001b[1;33m    \u001b[0mz\u001b[0m \u001b[1;33m=\u001b[0m \u001b[0mmy_add\u001b[0m\u001b[1;33m(\u001b[0m\u001b[0ma\u001b[0m\u001b[1;33m,\u001b[0m \u001b[0mb\u001b[0m\u001b[1;33m)\u001b[0m\u001b[1;33m\u001b[0m\u001b[1;33m\u001b[0m\u001b[0m\n",
      "\u001b[0m\u001b[1;32m      9 \u001b[1;33m    \u001b[0mprint\u001b[0m\u001b[1;33m(\u001b[0m\u001b[0mz\u001b[0m\u001b[1;33m)\u001b[0m\u001b[1;33m\u001b[0m\u001b[1;33m\u001b[0m\u001b[0m\n",
      "\u001b[0m\n",
      "ipdb> n\n",
      "--Return--\n",
      "None\n",
      "> \u001b[1;32mc:\\ide\\notebook\\error.py\u001b[0m(8)\u001b[0;36m<module>\u001b[1;34m()\u001b[0m\n",
      "\u001b[1;32m      5 \u001b[1;33m\u001b[1;33m\u001b[0m\u001b[0m\n",
      "\u001b[0m\u001b[1;32m      6 \u001b[1;33m\u001b[1;32mif\u001b[0m \u001b[0m__name__\u001b[0m \u001b[1;33m==\u001b[0m \u001b[1;34m\"__main__\"\u001b[0m\u001b[1;33m:\u001b[0m\u001b[1;33m\u001b[0m\u001b[1;33m\u001b[0m\u001b[0m\n",
      "\u001b[0m\u001b[1;32m      7 \u001b[1;33m    \u001b[0ma\u001b[0m\u001b[1;33m,\u001b[0m \u001b[0mb\u001b[0m \u001b[1;33m=\u001b[0m \u001b[1;36m3\u001b[0m\u001b[1;33m,\u001b[0m \u001b[1;36m4\u001b[0m\u001b[1;33m\u001b[0m\u001b[1;33m\u001b[0m\u001b[0m\n",
      "\u001b[0m\u001b[1;32m----> 8 \u001b[1;33m    \u001b[0mz\u001b[0m \u001b[1;33m=\u001b[0m \u001b[0mmy_add\u001b[0m\u001b[1;33m(\u001b[0m\u001b[0ma\u001b[0m\u001b[1;33m,\u001b[0m \u001b[0mb\u001b[0m\u001b[1;33m)\u001b[0m\u001b[1;33m\u001b[0m\u001b[1;33m\u001b[0m\u001b[0m\n",
      "\u001b[0m\u001b[1;32m      9 \u001b[1;33m    \u001b[0mprint\u001b[0m\u001b[1;33m(\u001b[0m\u001b[0mz\u001b[0m\u001b[1;33m)\u001b[0m\u001b[1;33m\u001b[0m\u001b[1;33m\u001b[0m\u001b[0m\n",
      "\u001b[0m\n",
      "ipdb> n\n",
      "NameError: name 'z' is not defined\n",
      "> \u001b[1;32mc:\\ide\\anaconda3\\lib\\site-packages\\ipython\\utils\\py3compat.py\u001b[0m(188)\u001b[0;36mexecfile\u001b[1;34m()\u001b[0m\n",
      "\u001b[1;32m    186 \u001b[1;33m    \u001b[1;32mwith\u001b[0m \u001b[0mopen\u001b[0m\u001b[1;33m(\u001b[0m\u001b[0mfname\u001b[0m\u001b[1;33m,\u001b[0m \u001b[1;34m'rb'\u001b[0m\u001b[1;33m)\u001b[0m \u001b[1;32mas\u001b[0m \u001b[0mf\u001b[0m\u001b[1;33m:\u001b[0m\u001b[1;33m\u001b[0m\u001b[1;33m\u001b[0m\u001b[0m\n",
      "\u001b[0m\u001b[1;32m    187 \u001b[1;33m        \u001b[0mcompiler\u001b[0m \u001b[1;33m=\u001b[0m \u001b[0mcompiler\u001b[0m \u001b[1;32mor\u001b[0m \u001b[0mcompile\u001b[0m\u001b[1;33m\u001b[0m\u001b[1;33m\u001b[0m\u001b[0m\n",
      "\u001b[0m\u001b[1;32m--> 188 \u001b[1;33m        \u001b[0mexec\u001b[0m\u001b[1;33m(\u001b[0m\u001b[0mcompiler\u001b[0m\u001b[1;33m(\u001b[0m\u001b[0mf\u001b[0m\u001b[1;33m.\u001b[0m\u001b[0mread\u001b[0m\u001b[1;33m(\u001b[0m\u001b[1;33m)\u001b[0m\u001b[1;33m,\u001b[0m \u001b[0mfname\u001b[0m\u001b[1;33m,\u001b[0m \u001b[1;34m'exec'\u001b[0m\u001b[1;33m)\u001b[0m\u001b[1;33m,\u001b[0m \u001b[0mglob\u001b[0m\u001b[1;33m,\u001b[0m \u001b[0mloc\u001b[0m\u001b[1;33m)\u001b[0m\u001b[1;33m\u001b[0m\u001b[1;33m\u001b[0m\u001b[0m\n",
      "\u001b[0m\u001b[1;32m    189 \u001b[1;33m\u001b[1;33m\u001b[0m\u001b[0m\n",
      "\u001b[0m\u001b[1;32m    190 \u001b[1;33m\u001b[1;31m# Refactor print statements in doctests.\u001b[0m\u001b[1;33m\u001b[0m\u001b[1;33m\u001b[0m\u001b[1;33m\u001b[0m\u001b[0m\n",
      "\u001b[0m\n",
      "ipdb> n\n",
      "--Return--\n",
      "None\n",
      "> \u001b[1;32mc:\\ide\\anaconda3\\lib\\site-packages\\ipython\\utils\\py3compat.py\u001b[0m(188)\u001b[0;36mexecfile\u001b[1;34m()\u001b[0m\n",
      "\u001b[1;32m    186 \u001b[1;33m    \u001b[1;32mwith\u001b[0m \u001b[0mopen\u001b[0m\u001b[1;33m(\u001b[0m\u001b[0mfname\u001b[0m\u001b[1;33m,\u001b[0m \u001b[1;34m'rb'\u001b[0m\u001b[1;33m)\u001b[0m \u001b[1;32mas\u001b[0m \u001b[0mf\u001b[0m\u001b[1;33m:\u001b[0m\u001b[1;33m\u001b[0m\u001b[1;33m\u001b[0m\u001b[0m\n",
      "\u001b[0m\u001b[1;32m    187 \u001b[1;33m        \u001b[0mcompiler\u001b[0m \u001b[1;33m=\u001b[0m \u001b[0mcompiler\u001b[0m \u001b[1;32mor\u001b[0m \u001b[0mcompile\u001b[0m\u001b[1;33m\u001b[0m\u001b[1;33m\u001b[0m\u001b[0m\n",
      "\u001b[0m\u001b[1;32m--> 188 \u001b[1;33m        \u001b[0mexec\u001b[0m\u001b[1;33m(\u001b[0m\u001b[0mcompiler\u001b[0m\u001b[1;33m(\u001b[0m\u001b[0mf\u001b[0m\u001b[1;33m.\u001b[0m\u001b[0mread\u001b[0m\u001b[1;33m(\u001b[0m\u001b[1;33m)\u001b[0m\u001b[1;33m,\u001b[0m \u001b[0mfname\u001b[0m\u001b[1;33m,\u001b[0m \u001b[1;34m'exec'\u001b[0m\u001b[1;33m)\u001b[0m\u001b[1;33m,\u001b[0m \u001b[0mglob\u001b[0m\u001b[1;33m,\u001b[0m \u001b[0mloc\u001b[0m\u001b[1;33m)\u001b[0m\u001b[1;33m\u001b[0m\u001b[1;33m\u001b[0m\u001b[0m\n",
      "\u001b[0m\u001b[1;32m    189 \u001b[1;33m\u001b[1;33m\u001b[0m\u001b[0m\n",
      "\u001b[0m\u001b[1;32m    190 \u001b[1;33m\u001b[1;31m# Refactor print statements in doctests.\u001b[0m\u001b[1;33m\u001b[0m\u001b[1;33m\u001b[0m\u001b[1;33m\u001b[0m\u001b[0m\n",
      "\u001b[0m\n",
      "ipdb> q\n"
     ]
    }
   ],
   "source": [
    "run -d error.py"
   ]
  }
 ],
 "metadata": {
  "kernelspec": {
   "display_name": "Python 3",
   "language": "python",
   "name": "python3"
  },
  "language_info": {
   "codemirror_mode": {
    "name": "ipython",
    "version": 3
   },
   "file_extension": ".py",
   "mimetype": "text/x-python",
   "name": "python",
   "nbconvert_exporter": "python",
   "pygments_lexer": "ipython3",
   "version": "3.8.5"
  },
  "toc": {
   "base_numbering": 1,
   "nav_menu": {},
   "number_sections": true,
   "sideBar": true,
   "skip_h1_title": true,
   "title_cell": "Table of Contents",
   "title_sidebar": "Contents",
   "toc_cell": true,
   "toc_position": {},
   "toc_section_display": true,
   "toc_window_display": true
  }
 },
 "nbformat": 4,
 "nbformat_minor": 2
}
